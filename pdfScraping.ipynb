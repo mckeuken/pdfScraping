{
 "cells": [
  {
   "cell_type": "markdown",
   "metadata": {},
   "source": [
    "Title:  pdfScraping\n",
    "Auteur:  MCKeuken\n",
    "Datum:  Nov. 2018\n",
    "\n",
    "Uitdaging: Bij het bereken van zorgkosten van instellingen krijgen we een aantal bestanden aangeleverd. Het kan soms \n",
    "        voorkomen dat een bepaald getal mist. Dit is dan best onhandig omdat je dan handmatig door een jaarrekening \n",
    "        moet om dat bepaalde bedrag te vinden. Het voordeel is dat de layout van jaarrekeningen een bepaalde structuur\n",
    "        aanhouden waar de beschijving voorafgaande aan het bedrag constant kan zijn. \n",
    "        \n",
    "Doel:   Doelstelling is om binnenaPDF bestanden opzoek te gaan naar een bepaalde text waarna een bedrag staat. \n",
    "        Wat de code doet is de pdf bestanden om te zetten naar een txt bestand, in het txt bestand opzoek \n",
    "        gaan naar een reguliere expressie, en de text na de reguliere expressie wegschrijft naar een dataframe.\n",
    "        De reden waarom de PDF's omgezet worden naar txt is dat pdf's niet echt heel makelijk zijn om door te \n",
    "        zoeken met regulieren expressies. \n",
    "\n",
    "Layout:  \n",
    "        1) Algemene modules importeren\n",
    "        2) PDF-TXT omzet functies defineren\n",
    "        3) Daadwerkelijk PDF naar TXT uitvoeren\n",
    "        4) Op zoek naar de reguliere expressie \n",
    "        5) Controle\n",
    "    \n",
    "Requirements:  twee folders aanmaken:  - pdfDir (waarin je de pdf's inzet)\n",
    "                                       - txtDir (dit is de output folder)\n",
    " \n",
    " \n",
    "Title: pdfScraping\n",
    "Author: MCKeuken\n",
    "Date: Nov. 2018\n",
    "\n",
    "Challange: When calculating the costs of healthcare of institutes we get a number of data files. However it can occure \n",
    "        that these numbers are not complete. In that case it is a bit of a pain because you would then have to go \n",
    "        through these financial reports manually to find that number. The nice thing of these financial reports is \n",
    "        that their layout is fairly constant which means that a given number is usually preceded by a regular       \n",
    "        description. \n",
    "        \n",
    "Goal:   The goal of this script is to search for certain strings within a PDF document which is followed by a number. \n",
    "        The code first converts PDF files to a txt file, then within the txt file searches for a regular expression. \n",
    "        The reason why I convert the PDFs to text is because PDFs are not necessarily very easy to search through via \n",
    "        regular expresions. \n",
    "\n",
    "Layout:\n",
    "        1) Importing standard modules\n",
    "        2) Definine PDF-TXT convert functions\n",
    "        3) Convert the PDF to TXT\n",
    "        4) Search for the regular expression  \n",
    "        5) Control\n",
    "    \n",
    "Requirements:  two folders:  - pdfDir (this contains your pdf files)\n",
    "                             - txtDir (this is the output folder)\n",
    " "
   ]
  },
  {
   "cell_type": "code",
   "execution_count": 1,
   "metadata": {},
   "outputs": [],
   "source": [
    "# 1) Import Modules\n",
    "import os, sys, getopt, re\n",
    "from io import StringIO\n",
    "from pdfminer.pdfinterp import PDFResourceManager, PDFPageInterpreter\n",
    "from pdfminer.converter import TextConverter\n",
    "from pdfminer.layout import LAParams\n",
    "from pdfminer.pdfpage import PDFPage\n",
    "import pandas as pd"
   ]
  },
  {
   "cell_type": "code",
   "execution_count": 2,
   "metadata": {},
   "outputs": [],
   "source": [
    "#  2) Defining the functions\n",
    "\n",
    "# Function 1) Get string of text content of pdf: \n",
    "def convert(fname, pages=None):\n",
    "    if not pages:\n",
    "        pagenums = set()\n",
    "    else:\n",
    "        pagenums = set(pages)\n",
    "    output = StringIO()\n",
    "    manager = PDFResourceManager()\n",
    "    converter = TextConverter(manager, output, laparams=LAParams())\n",
    "    interpreter = PDFPageInterpreter(manager, converter)\n",
    "    infile = open(fname, 'rb')\n",
    "    for page in PDFPage.get_pages(infile, pagenums):\n",
    "        interpreter.process_page(page)\n",
    "    infile.close()\n",
    "    converter.close()\n",
    "    text = output.getvalue()\n",
    "    output.close\n",
    "    return text \n",
    "\n",
    "# Function 2) Converting multiple PDF files:\n",
    "def convertMultiple(pdfDir, txtDir):\n",
    "    if pdfDir == \"\": pdfDir = os.getcwd() + \"\\\\\" \n",
    "    for pdf in os.listdir(pdfDir): \n",
    "        fileExtension = pdf.split(\".\")[-1]\n",
    "        if fileExtension == \"pdf\":\n",
    "            pdfFilename = pdfDir + pdf\n",
    "            print(pdfFilename)\n",
    "            text = convert(pdfFilename) \n",
    "            textFilename = txtDir+ pdf + \".txt\"\n",
    "            textFile = open(textFilename, \"w\") \n",
    "            textFile.write(text) \n",
    "            textFile.close()"
   ]
  },
  {
   "cell_type": "code",
   "execution_count": 3,
   "metadata": {},
   "outputs": [
    {
     "name": "stdout",
     "output_type": "stream",
     "text": [
      "/Users/mckitchen/Documents/Werk/Projecten/pdfScraping/pdfDir/keuken_test.pdf\n"
     ]
    }
   ],
   "source": [
    "# 3) Convert the PDF to TXT\n",
    "# This is where you actually convert the PDFs to TXT\n",
    "\n",
    "# Modify the following path to your own oaths\n",
    "pdfDir = \"/Users/mckitchen/Documents/Werk/Projecten/pdfScraping/pdfDir/\"\n",
    "txtDir = \"/Users/mckitchen/Documents/Werk/Projecten/pdfScraping/txtDir/\"\n",
    "\n",
    "# Call function 2 (which will call function 1):\n",
    "convertMultiple(pdfDir, txtDir)\n",
    "\n",
    "# Congrats, you have just converted the PDFs to TXT!"
   ]
  },
  {
   "cell_type": "code",
   "execution_count": 4,
   "metadata": {},
   "outputs": [],
   "source": [
    "# 4) Search for the regular expression \n",
    "# The next step is to actually search the TXT file for a given regular expersion.\n",
    "searchTerm = \"Keuken\"\n",
    "\n",
    "# Start the forloop:\n",
    "output=[]\n",
    "# for alle files in the txtDir folder:\n",
    "for txt in os.listdir(txtDir): \n",
    "    # check if there are files that end with .txt:\n",
    "    if txt.endswith(\".txt\"):\n",
    "        # If so, open the text file and read the text:\n",
    "        path = os.path.join(txtDir + txt)\n",
    "        file = open(path,'r')\n",
    "        fileText = file.read()\n",
    "        # Now that we have the text in working memory we can searh it.\n",
    "        # First things first, does the searchTerm even exist in the text?\n",
    "        matches = re.findall(searchTerm, fileText, re.I) \n",
    "        # Then we check how often the searchTerm occures:\n",
    "        freq = len(matches) \n",
    "        # But here is where the actual crux of the code is: \n",
    "        # Nice that we found the searchTerm but we actually only care about \n",
    "        #   the combination of the searchTerm AND the following numbers.\n",
    "        # This is what you do in the following line:\n",
    "        numberAfterMatch = re.findall( searchTerm + \"\\s*(\\d+)\" , fileText) \n",
    "        # So it might happen that there are multiple valid combinations. So lets make \n",
    "        #   sure we save the different hits: \n",
    "        for hit in numberAfterMatch:\n",
    "            output.append((txt, searchTerm, freq, hit))\n",
    "# To have a somewhat nicer output we'll add some colum names:      \n",
    "cols = ['file_name', 'Search term', 'frequenty','numberAfterMatch']    \n",
    "# Personally I like dataframes so there you have it:\n",
    "output = pd.DataFrame(output, columns = cols)"
   ]
  },
  {
   "cell_type": "code",
   "execution_count": 5,
   "metadata": {},
   "outputs": [
    {
     "data": {
      "text/html": [
       "<div>\n",
       "<style scoped>\n",
       "    .dataframe tbody tr th:only-of-type {\n",
       "        vertical-align: middle;\n",
       "    }\n",
       "\n",
       "    .dataframe tbody tr th {\n",
       "        vertical-align: top;\n",
       "    }\n",
       "\n",
       "    .dataframe thead th {\n",
       "        text-align: right;\n",
       "    }\n",
       "</style>\n",
       "<table border=\"1\" class=\"dataframe\">\n",
       "  <thead>\n",
       "    <tr style=\"text-align: right;\">\n",
       "      <th></th>\n",
       "      <th>file_naam</th>\n",
       "      <th>zoekterm</th>\n",
       "      <th>frequentie</th>\n",
       "      <th>getalNaZoekterm</th>\n",
       "    </tr>\n",
       "  </thead>\n",
       "  <tbody>\n",
       "  </tbody>\n",
       "</table>\n",
       "</div>"
      ],
      "text/plain": [
       "Empty DataFrame\n",
       "Columns: [file_naam, zoekterm, frequentie, getalNaZoekterm]\n",
       "Index: []"
      ]
     },
     "execution_count": 5,
     "metadata": {},
     "output_type": "execute_result"
    }
   ],
   "source": [
    "output\n"
   ]
  },
  {
   "cell_type": "code",
   "execution_count": null,
   "metadata": {},
   "outputs": [],
   "source": []
  }
 ],
 "metadata": {
  "kernelspec": {
   "display_name": "Python 3",
   "language": "python",
   "name": "python3"
  },
  "language_info": {
   "codemirror_mode": {
    "name": "ipython",
    "version": 3
   },
   "file_extension": ".py",
   "mimetype": "text/x-python",
   "name": "python",
   "nbconvert_exporter": "python",
   "pygments_lexer": "ipython3",
   "version": "3.7.0"
  }
 },
 "nbformat": 4,
 "nbformat_minor": 2
}
